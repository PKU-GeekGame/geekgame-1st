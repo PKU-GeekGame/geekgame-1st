{
 "cells": [
  {
   "cell_type": "code",
   "execution_count": 3,
   "metadata": {},
   "outputs": [
    {
     "name": "stdout",
     "output_type": "stream",
     "text": [
      "38\n",
      "38\n",
      "b'flag{9d9a9d92dcb1363c26a0c29fda2edfb6}'\n",
      "b'flag{ffdbca6ecc5d86cb71cadfd43df36649}'\n"
     ]
    }
   ],
   "source": [
    "\n",
    "import binascii\n",
    "\n",
    "\n",
    "def xor_each(k, b):\n",
    "    assert len(k) == len(b)\n",
    "    out = []\n",
    "    for i in range(len(b)):\n",
    "        out.append(b[i] ^ k[i])\n",
    "    return bytes(out)\n",
    "\n",
    "# key = get_random_bytes(len(flag1))\n",
    "\n",
    "key = b'\\x1e\\xe0[u\\xf2\\xf2\\x81\\x01U_\\x9d!yc\\x8e\\xce[X\\r\\x04\\x94\\xbc9\\x1d\\xd7\\xf8\\xde\\xdcd\\xb2Q\\xa3\\x8a?\\x16\\xe5\\x8a9'\n",
    "\n",
    "\n",
    "\n",
    "\n",
    "a = binascii.a2b_hex(\n",
    "    '788c3a1289cbe5383466f9184b07edac6a6b3b37f78e0f7ce79bece502d63091ef5b7087bc44')\n",
    "\n",
    "b = binascii.a2b_hex(\n",
    "    '788c3a128994e765373cfc171c00edfb3f603b67f68b087eb69cb8b8508135c5b90920d1b344'\n",
    ")\n",
    "\n",
    "print(len(a))\n",
    "print(len(b))\n",
    "\n",
    "print(xor_each(key, a))\n",
    "print(xor_each(key, b))\n"
   ]
  },
  {
   "cell_type": "code",
   "execution_count": 2,
   "metadata": {},
   "outputs": [
    {
     "name": "stdout",
     "output_type": "stream",
     "text": [
      "-----------------Wakarimasu! Sat 06 Nov 2021 03:44:15 PM CST you-kali-vm x86_64 GNU/Linux 8\n",
      "--------------------------------"
     ]
    }
   ],
   "source": [
    "import zipfile\n",
    "import py7zr \n",
    " \n",
    "\n",
    "\n",
    "nproc = [2, 4, 6, 8, 10, 12, 14, 16, 24, 32]\n",
    "# seconds = range(0, 20)\n",
    "seconds = [13, 14, 15, 16,17]\n",
    "temps = [\"Wakarimasu! Sat 06 Nov 2021 03:44:{} PM CST you-kali-vm x86_64 GNU/Linux {}\"]#, \"Wakarimasu! Sat Nov 06 15:44:{} CST 2021 you-kali-vm x86_64 GNU/Linux {}\", \"Wakarimasu! 2021年 11月 06日 星期六 15:44:{} CST you-kali-vm x86_64 GNU/Linux {}\"]\n",
    "\n",
    "\n",
    "for p in nproc:\n",
    "    for s in seconds:\n",
    "        for t in temps:\n",
    "            password = t.format(s, p)\n",
    "            try:\n",
    "                with py7zr.SevenZipFile('flag2.7z', mode='r', password=password) as z: \n",
    "                    z.extractall() \n",
    "                print(password)\n",
    "            except:\n",
    "                print(\"-\", end=\"\")\n",
    "                pass\t \n"
   ]
  }
 ],
 "metadata": {
  "interpreter": {
   "hash": "4fa5195eeb3a10928adea65ad78b54b07005553f07674351a648a96c535c4399"
  },
  "kernelspec": {
   "display_name": "Python 3.8.11 64-bit ('general': conda)",
   "language": "python",
   "name": "python3"
  },
  "language_info": {
   "codemirror_mode": {
    "name": "ipython",
    "version": 3
   },
   "file_extension": ".py",
   "mimetype": "text/x-python",
   "name": "python",
   "nbconvert_exporter": "python",
   "pygments_lexer": "ipython3",
   "version": "3.8.11"
  },
  "orig_nbformat": 4
 },
 "nbformat": 4,
 "nbformat_minor": 2
}
