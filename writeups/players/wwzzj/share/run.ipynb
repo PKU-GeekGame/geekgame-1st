{
 "cells": [
  {
   "cell_type": "code",
   "execution_count": 40,
   "metadata": {},
   "outputs": [
    {
     "name": "stdout",
     "output_type": "stream",
     "text": [
      "666c61677b4e305f5333635265545f4f4e5f455468457265754d7d\n",
      "5af49e38d27c16b05af49e38d27c16b05af49e38d27c16b05af49e38d27c16b0\n",
      "b'flag{N0_S3cReT_ON_EThEreuM}'\n"
     ]
    }
   ],
   "source": [
    "from Crypto.Util.number import long_to_bytes\n",
    "s = 0\n",
    "aa = 0x15eea4b2551f0c96d02a5d62f84cac8112690d68c47b16814e221b8a37d6c4d3\n",
    "bb = 0x293edea661635aabcd6deba615ab813a7610c1cfb9efb31ccc5224c0e4b37372\n",
    "# ans = 41140359064146335350842811253497724124919273953155401461428123985669170927280\n",
    "ans = 0x5af49e38d27c16b05af49e38d27c16b05af49e38d27c16b05af49e38d27c16b0;\n",
    "for i in range(0, 64):\n",
    "    # s = s | ((((ans >> 4 * i) + (i * 5 & 0xf) + (aa >> 4 * i) * 7) & 0xf) << i * 4)\n",
    "    s = s | ((((bb >> 4 * i) - (i * 5 & 0xf) - (aa >> 4 * i) * 7) & 0xf) << i * 4)\n",
    "\n",
    "# var0 = var0 | (((arg0 >> temp5 * 0x04) + temp5 * 0x05 + (storage[0x02] >> temp5 * 0x04) * 0x07 & 0x0f) << temp5 * 0x04);\n",
    "print(format(s, 'x'))\n",
    "print(format(ans, 'x'))\n",
    "\n",
    "# print(bytes(ans))\n",
    "\n",
    "# bb = 0x7fbf5e5a15eea4b2551f0c96d02a5d62f84cac8112690d68c47b16814e221b8a37d6c4d3293edea661635aabcd6deba615ab813a7610c1cfb9efb31ccc5224c0e4b37372\n",
    "print(long_to_bytes(s))\n",
    "\n"
   ]
  }
 ],
 "metadata": {
  "interpreter": {
   "hash": "4fa5195eeb3a10928adea65ad78b54b07005553f07674351a648a96c535c4399"
  },
  "kernelspec": {
   "display_name": "Python 3.8.11 64-bit ('general': conda)",
   "language": "python",
   "name": "python3"
  },
  "language_info": {
   "codemirror_mode": {
    "name": "ipython",
    "version": 3
   },
   "file_extension": ".py",
   "mimetype": "text/x-python",
   "name": "python",
   "nbconvert_exporter": "python",
   "pygments_lexer": "ipython3",
   "version": "3.8.11"
  },
  "orig_nbformat": 4
 },
 "nbformat": 4,
 "nbformat_minor": 2
}
