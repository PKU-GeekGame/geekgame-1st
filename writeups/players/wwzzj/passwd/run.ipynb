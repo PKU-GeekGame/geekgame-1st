{
 "cells": [
  {
   "cell_type": "code",
   "execution_count": 34,
   "metadata": {},
   "outputs": [
    {
     "name": "stdout",
     "output_type": "stream",
     "text": [
      "[{'a'}, {'b'}, {'c'}, {'d'}]\n",
      "{2, 4, 8, 10, 14, 16, 20, 'c', 22, 26, 28} {3, 5, 9, 11, 15, 17, 21, 'd', 23, 27, 29} {0, 2, 6, 8, 'a', 12, 14, 18, 20, 24, 26, 30} {1, 3, 7, 'b', 9, 13, 15, 19, 21, 25, 27, 31}\n"
     ]
    }
   ],
   "source": [
    "from pwn import *\n",
    "\n",
    "ss = [set('a'), set('b'), set('c'), set('d')]\n",
    "\n",
    "print(ss)\n",
    "\n",
    "for i in range(32):\n",
    "    # p = i % 4\n",
    "    # p_2 = (i + 2) % 4\n",
    "    ns = set()\n",
    "    ns.add(i)\n",
    "    # ss[p] = (ss[p].symmetric_difference(ss[p_2])).symmetric_difference(ns)\n",
    "    ss[0], ss[1], ss[2], ss[3] = ss[1], ss[2], ss[3], ss[0].symmetric_difference(ss[2]).symmetric_difference(ns)\n",
    "\n",
    "ss[2] = ss[2].symmetric_difference(ss[0])\n",
    "ss[3] = ss[3].symmetric_difference(ss[1])\n",
    "print(ss[0], ss[1], ss[2], ss[3])\n"
   ]
  },
  {
   "cell_type": "code",
   "execution_count": 20,
   "metadata": {},
   "outputs": [],
   "source": [
    "from typing import List\n",
    "from Crypto.PublicKey import RSA\n",
    "from Crypto.Util.number import bytes_to_long, long_to_bytes\n",
    "from hashlib import sha256\n",
    "import base64\n",
    "\n",
    "key = RSA.generate(2048)\n",
    "rsa_key = (key.n, key.e)\n",
    "rsa_d = key.d\n",
    "\n",
    "\n",
    "def packmess(mess):\n",
    "    assert len(mess) <= 65535\n",
    "    return mess+(len(mess).to_bytes(2, 'big'))\n",
    "\n",
    "\n",
    "def unpackmess(mess):\n",
    "    rlen = int.from_bytes(mess[-2:], 'big')\n",
    "    if rlen > len(mess)-2:\n",
    "        mess = b'\\x00'*(rlen-len(mess)+2)+mess\n",
    "    return mess[-(2+rlen):-2]\n",
    "\n",
    "\n",
    "def getcert(name, key):\n",
    "    rmess = packmess(name)+packmess(key)\n",
    "    return enc(rmess)\n",
    "\n",
    "\n",
    "def verify(cert):\n",
    "    rmess = dec(cert)\n",
    "    rkey = unpackmess(rmess)\n",
    "    nmess = rmess[:-(len(rkey)+2)]\n",
    "    rname = unpackmess(nmess)\n",
    "    return (rname, rkey)\n",
    "\n",
    "\n",
    "def enc(mess):\n",
    "    gmess = int.from_bytes(mess, 'big')\n",
    "    cip = pow(gmess, rsa_d, rsa_key[0])\n",
    "    return cip\n",
    "\n",
    "\n",
    "def dec(cip):\n",
    "    mess = pow(cip, rsa_key[1], rsa_key[0])\n",
    "    messm = mess.to_bytes((mess.bit_length()+7)//8, 'big')\n",
    "    return messm\n",
    "\n",
    "\n",
    "def pad(msg):\n",
    "    n = 32 - len(msg) % 32\n",
    "    return msg + bytes([n]) * n\n",
    "\n",
    "\n",
    "def unpad(msg):\n",
    "    assert len(msg) > 0 and len(msg) % 32 == 0\n",
    "    n = msg[-1]\n",
    "    assert 1 <= n <= 32\n",
    "    assert msg[-n:] == bytes([n]) * n\n",
    "    return msg[:-n]\n",
    "\n",
    "\n",
    "def MESenc(mess: bytes, skey: bytes):\n",
    "    assert len(skey) == 8*32\n",
    "    keys = [bytes_to_long(skey[i*8:(i+1)*8]) for i in range(32)]\n",
    "    assert len(mess) % 32 == 0\n",
    "    cip = b\"\"\n",
    "    for it in range(0, len(mess), 32):\n",
    "        pmess = mess[it:it+32]\n",
    "        a = bytes_to_long(pmess[0:8])\n",
    "        b = bytes_to_long(pmess[8:16])\n",
    "        c = bytes_to_long(pmess[16:24])\n",
    "        d = bytes_to_long(pmess[24:32])\n",
    "        for key in keys:\n",
    "            a, b, c, d = b, c, d, a ^ c ^ key\n",
    "        a = long_to_bytes(a, 8)\n",
    "        b = long_to_bytes(b, 8)\n",
    "        c = long_to_bytes(c, 8)\n",
    "        d = long_to_bytes(d, 8)\n",
    "        cip += a+b+c+d\n",
    "    return cip\n",
    "\n",
    "\n",
    "P = 90217665064898209874945440415607645619739552209209829698859302616784804764535733761793578496057231124307702060703777047113648993244620436073319613409562635176198907683514151487667596066485528729421061091099275256268502121631878101098253283229895343146346757918637948217208979264467987857303672675468072062419\n",
    "G = 13\n"
   ]
  },
  {
   "cell_type": "code",
   "execution_count": 47,
   "metadata": {},
   "outputs": [
    {
     "name": "stdout",
     "output_type": "stream",
     "text": [
      "[x] Opening connection to prob08.geekgame.pku.edu.cn on port 10008\n",
      "[x] Opening connection to prob08.geekgame.pku.edu.cn on port 10008: Trying 115.27.243.170\n",
      "[+] Opening connection to prob08.geekgame.pku.edu.cn on port 10008: Done\n",
      "b'My RSA N is: 23097941225098921027065992914841812285560391094743125078125375489283400049603070708843500375248080834959016833364944828325725303978369981509881550870065722163041736596999348682660751887448489878099228060526494814436021540974587483286458825581730327873105512224032648022148656115195432917541069297518976873089520491389431912769179263291658482366004166548189946459925744114395437151128415520669778987265646919440616572074720492212011604594102823169409116063017057531872839909040892696667849692932118552843976266357785696355382355039283667831119215759145487310184655662907346132986115865740337596886685605553106500319711\\nMy RSA e is: 65537\\nWhat is your name?\\n'\n",
      "b'What is your key?\\n'\n",
      "b'I can not issue multiple certificates to one person.\\nWhat do you want to do?\\n0. Talk to God.\\n1. Talk to Richard.\\n'\n"
     ]
    },
    {
     "name": "stderr",
     "output_type": "stream",
     "text": [
      "<ipython-input-47-6ef009b89fed>:5: BytesWarning: Text is not bytes; assuming ASCII, no guarantees. See https://docs.pwntools.com/#bytes\n",
      "  sh.sendline(token)\n",
      "<ipython-input-47-6ef009b89fed>:8: BytesWarning: Text is not bytes; assuming ASCII, no guarantees. See https://docs.pwntools.com/#bytes\n",
      "  sh.sendline(\"0\")\n",
      "<ipython-input-47-6ef009b89fed>:11: BytesWarning: Text is not bytes; assuming ASCII, no guarantees. See https://docs.pwntools.com/#bytes\n",
      "  sh.sendline(\"Alice\".encode('utf-8').hex());\n",
      "<ipython-input-47-6ef009b89fed>:14: BytesWarning: Text is not bytes; assuming ASCII, no guarantees. See https://docs.pwntools.com/#bytes\n",
      "  sh.sendline(\"Key\".encode('utf-8').hex());\n"
     ]
    }
   ],
   "source": [
    "sh = remote(\"prob08.geekgame.pku.edu.cn\",10008)\n",
    "r = sh.recv(numb = 2048, timeout = 2000)\n",
    "# print(r)\n",
    "token = \"403:MEUCIQD3KO+wCR68OSEAc4JJYLR8Vtuwh//GTbDToFsQPITbuQIgXmMQ0znmP/DU2sKC0PX0ckbo779yoLYbKaO8pCbxgGo=\"\n",
    "sh.sendline(token)\n",
    "r = sh.recv(numb = 2048, timeout = 2000)\n",
    "# print(r)\n",
    "sh.sendline(\"0\")\n",
    "r = sh.recv(numb = 2048, timeout = 2000)\n",
    "print(r)\n",
    "sh.sendline(\"Alice\".encode('utf-8').hex());\n",
    "r = sh.recv(numb = 2048, timeout = 2000)\n",
    "print(r)\n",
    "sh.sendline(\"Key\".encode('utf-8').hex());\n",
    "r = sh.recv(numb = 2048, timeout = 2000)\n",
    "print(r)"
   ]
  },
  {
   "cell_type": "code",
   "execution_count": 39,
   "metadata": {},
   "outputs": [
    {
     "name": "stdout",
     "output_type": "stream",
     "text": [
      "17772651477269818341 12667178601735605006 16254714827484711362 10003855788647640641\n",
      "17772651477269818341 12667178601735605006 16254714827484711362 10003855788647640641\n",
      "17772651477269818341 12667178601735605006 16254714827484711362 10003855788647640641\n",
      "b'Sorry, I forget to verify your identity. Please give me your certificate.\\x17\\x17\\x17\\x17\\x17\\x17\\x17\\x17\\x17\\x17\\x17\\x17\\x17\\x17\\x17\\x17\\x17\\x17\\x17\\x17\\x17\\x17\\x17'\n"
     ]
    },
    {
     "data": {
      "text/plain": [
       "b'Hello, Alice! I will give you two flags. The first is: flag{Fe1STeL_neTw0rk_ne3d_an_OWf}\\x08\\x08\\x08\\x08\\x08\\x08\\x08\\x08'"
      ]
     },
     "execution_count": 39,
     "metadata": {},
     "output_type": "execute_result"
    }
   ],
   "source": [
    "import binascii \n",
    "\n",
    "def decode(mess: bytes, cip: bytes, flag: bytes):\n",
    "    skey = [0] * 32\n",
    "    assert len(mess) % 32 == 0\n",
    "    ans = b''\n",
    "    for it in range(0, len(mess), 32):\n",
    "        pmess = mess[it:it+32]\n",
    "        pcip = cip[it:it+32]\n",
    "        pflag = flag[it:it+32]\n",
    "        a0 = bytes_to_long(pmess[0:8])\n",
    "        b0 = bytes_to_long(pmess[8:16])\n",
    "        c0 = bytes_to_long(pmess[16:24])\n",
    "        d0 = bytes_to_long(pmess[24:32])\n",
    "        a1 = bytes_to_long(pcip[0:8])\n",
    "        b1 = bytes_to_long(pcip[8:16])\n",
    "        c1 = bytes_to_long(pcip[16:24])\n",
    "        d1 = bytes_to_long(pcip[24:32])\n",
    "        c1 ^= a1\n",
    "        d1 ^= b1\n",
    "        k1 = c0 ^ a1\n",
    "        k2 = d0 ^ b1\n",
    "        k3 = a0 ^ c1\n",
    "        k4 = b0 ^ d1\n",
    "        a1 ^= k1\n",
    "        b1 ^= k2\n",
    "        c1 ^= k3\n",
    "        d1 ^= k4\n",
    "        print(k1, k2, k3, k4)\n",
    "        \n",
    "        a = long_to_bytes(c1, 8)\n",
    "        b = long_to_bytes(d1, 8)\n",
    "        c = long_to_bytes(a1, 8)\n",
    "        d = long_to_bytes(b1, 8)\n",
    "        ans += a+b+c+d\n",
    "    print(ans)\n",
    "    ans = b''\n",
    "    for it in range(0, len(flag), 32):\n",
    "        pflag = flag[it:it+32]\n",
    "        a2 = bytes_to_long(pflag[0:8])\n",
    "        b2 = bytes_to_long(pflag[8:16])\n",
    "        c2 = bytes_to_long(pflag[16:24])\n",
    "        d2 = bytes_to_long(pflag[24:32])\n",
    "        c2 ^= a2\n",
    "        d2 ^= b2\n",
    "        a2 ^= k1\n",
    "        b2 ^= k2\n",
    "        c2 ^= k3\n",
    "        d2 ^= k4\n",
    "        a = long_to_bytes(c2, 8)\n",
    "        b = long_to_bytes(d2, 8)\n",
    "        c = long_to_bytes(a2, 8)\n",
    "        d = long_to_bytes(b2, 8)\n",
    "        ans += a+b+c+d\n",
    "    return ans\n",
    "\n",
    "tmp = r.decode().split('\\n')\n",
    "tmp[0] = binascii.a2b_hex(tmp[0])\n",
    "tmp[1] = binascii.a2b_hex(tmp[1])\n",
    "\n",
    "# Public_key=os.urandom(256)\n",
    "# MESenc(pad((\"Hello, Alice! I will give you two flags. The first is: \"+flag1(token)).encode(\"utf-8\")),Public_key).hex()\n",
    "padded = pad((\"Sorry, I forget to verify your identity. Please give me your certificate.\").encode(\"utf-8\"))\n",
    "decode(padded, tmp[1], tmp[0])"
   ]
  },
  {
   "cell_type": "code",
   "execution_count": 50,
   "metadata": {},
   "outputs": [
    {
     "data": {
      "text/plain": [
       "b'asdf'"
      ]
     },
     "execution_count": 50,
     "metadata": {},
     "output_type": "execute_result"
    }
   ],
   "source": [
    "b'\\x00'*-5 + b'asdf'"
   ]
  },
  {
   "cell_type": "code",
   "execution_count": 54,
   "metadata": {},
   "outputs": [
    {
     "name": "stdout",
     "output_type": "stream",
     "text": [
      "`\n"
     ]
    }
   ],
   "source": [
    "ttt = \"`\\\"\\b\"\n",
    "print(ttt)"
   ]
  }
 ],
 "metadata": {
  "interpreter": {
   "hash": "4fa5195eeb3a10928adea65ad78b54b07005553f07674351a648a96c535c4399"
  },
  "kernelspec": {
   "display_name": "Python 3.8.11 64-bit ('general': conda)",
   "language": "python",
   "name": "python3"
  },
  "language_info": {
   "codemirror_mode": {
    "name": "ipython",
    "version": 3
   },
   "file_extension": ".py",
   "mimetype": "text/x-python",
   "name": "python",
   "nbconvert_exporter": "python",
   "pygments_lexer": "ipython3",
   "version": "3.8.11"
  },
  "orig_nbformat": 4
 },
 "nbformat": 4,
 "nbformat_minor": 2
}
