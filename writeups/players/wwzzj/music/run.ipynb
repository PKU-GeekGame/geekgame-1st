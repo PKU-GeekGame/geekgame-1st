{
 "cells": [
  {
   "cell_type": "code",
   "execution_count": 2,
   "metadata": {},
   "outputs": [
    {
     "name": "stdout",
     "output_type": "stream",
     "text": [
      "72364209117514983984"
     ]
    }
   ],
   "source": [
    "dic = {}\n",
    "dic[\"艺\"]=\"1\"\n",
    "dic[\"驭\"]=\"2\"\n",
    "dic[\"令\"]=\"3\"\n",
    "dic[\"怀\"]=\"4\"\n",
    "dic[\"庚\"]=\"5\"\n",
    "dic[\"诠\"]=\"6\"\n",
    "dic[\"宾\"]=\"7\"\n",
    "dic[\"晾\"]=\"8\"\n",
    "dic[\"喆\"]=\"9\"\n",
    "dic[\"榕\"]=\"0\"\n",
    "\n",
    "s = \"宾驭令诠怀驭榕喆艺艺宾庚艺怀喆晾令喆晾怀\"\n",
    "\n",
    "for i in s:\n",
    "    print(dic[i], end=\"\")"
   ]
  },
  {
   "cell_type": "code",
   "execution_count": 57,
   "metadata": {},
   "outputs": [
    {
     "name": "stdout",
     "output_type": "stream",
     "text": [
      "512146 512468\n"
     ]
    }
   ],
   "source": [
    "with open(\"left.bin\", \"rb\") as f:\n",
    "    ldata = bytes(f.read())\n",
    "with open(\"right.bin\", \"rb\") as f:\n",
    "    rdata = bytes(f.read())\n",
    "lp = 0\n",
    "rp = 0\n",
    "ans = b''\n",
    "print(len(ldata), len(rdata))\n",
    "while lp < len(ldata) and rp < len(rdata):\n",
    "    if (ldata[lp] == rdata[rp]):\n",
    "        lp += 1\n",
    "        rp += 1\n",
    "    else:\n",
    "        for i in range(1, 2):\n",
    "            flag = \"\"\n",
    "            if ldata[lp + i] == rdata[rp] and rdata[rp + i] == ldata[lp]:\n",
    "                if ldata[lp + i + 1] == rdata[rp + 1]:\n",
    "                    flag = 'L'\n",
    "                else:\n",
    "                    flag = 'R'\n",
    "            elif (ldata[lp + i] == rdata[rp]):\n",
    "                flag = 'L'\n",
    "            elif rdata[rp + i] == ldata[lp]:\n",
    "                flag = 'R'\n",
    "            \n",
    "            \n",
    "            if flag == 'L':\n",
    "                if i == 1:\n",
    "                    ans = ans + ldata[lp:lp+i]\n",
    "                else:\n",
    "                    ans = ans + ldata[lp:lp+2]\n",
    "                if i > 1:\n",
    "                    print(\"l\", lp, rp, i, ldata[lp-5:lp+i+5].hex(), rdata[rp-5:rp+5].hex())\n",
    "                lp += i\n",
    "                break\n",
    "        \n",
    "            elif flag == 'R':\n",
    "                if i == 1:\n",
    "                    ans = ans + rdata[rp:rp+i]\n",
    "                else:\n",
    "                    ans = ans + ldata[rp:rp+2]\n",
    "                if i > 1:\n",
    "                    print(\"r\", lp, rp, i, ldata[lp-5:lp+5].hex(), rdata[rp-5:rp+i+5].hex())\n",
    "                rp += i\n",
    "                break\n",
    "        else:\n",
    "            print(ldata[lp:lp+8], rdata[rp:rp+8])\n",
    "            print(\"no!!!\")\n",
    "            break\n",
    "            \n",
    "\n",
    "with open(\"mynes.nes\", \"wb\") as f:\n",
    "    f.write(ans)"
   ]
  }
 ],
 "metadata": {
  "interpreter": {
   "hash": "4fa5195eeb3a10928adea65ad78b54b07005553f07674351a648a96c535c4399"
  },
  "kernelspec": {
   "display_name": "Python 3.8.11 64-bit ('general': conda)",
   "language": "python",
   "name": "python3"
  },
  "language_info": {
   "codemirror_mode": {
    "name": "ipython",
    "version": 3
   },
   "file_extension": ".py",
   "mimetype": "text/x-python",
   "name": "python",
   "nbconvert_exporter": "python",
   "pygments_lexer": "ipython3",
   "version": "3.8.11"
  },
  "orig_nbformat": 4
 },
 "nbformat": 4,
 "nbformat_minor": 2
}
