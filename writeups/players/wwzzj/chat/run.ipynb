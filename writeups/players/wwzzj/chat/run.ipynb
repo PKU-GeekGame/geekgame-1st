{
 "cells": [
  {
   "cell_type": "code",
   "execution_count": 1,
   "metadata": {},
   "outputs": [
    {
     "name": "stdout",
     "output_type": "stream",
     "text": [
      "b''\n"
     ]
    }
   ],
   "source": [
    "import socket\n",
    "\n",
    "client = socket.socket(family=socket.AF_INET,type=socket.SOCK_STREAM)\n",
    "client.connect((\"prob17-3wkj7ti2.geekgame.pku.edu.cn\",80))\n",
    "\n",
    "get_request_info = b\"\"\"GET / HTTP/1.1\n",
    "Host: geekgame.pku.edu.cn\n",
    "User-Agent: Mozilla/5.0 (Windows NT 10.0; Win64; x64; rv:63.0) Gecko/20100101 Firefox/63.0\n",
    "Accept: text/html,application/xhtml+xml,application/xml;q=0.9,*/*;q=0.8\n",
    "Accept-Language: zh-CN,zh;q=0.8,zh-TW;q=0.7,zh-HK;q=0.5,en-US;q=0.3,en;q=0.2\n",
    "Connection: keep-alive\n",
    "Upgrade-Insecure-Requests: 1\n",
    "Accept-Encoding: gzip, deflate\n",
    "\"\"\"\n",
    "\n",
    "client.send(get_request_info)\n",
    "res = client.recv(8096)\n",
    "print(res)"
   ]
  }
 ],
 "metadata": {
  "interpreter": {
   "hash": "4fa5195eeb3a10928adea65ad78b54b07005553f07674351a648a96c535c4399"
  },
  "kernelspec": {
   "display_name": "Python 3.8.11 64-bit ('general': conda)",
   "language": "python",
   "name": "python3"
  },
  "language_info": {
   "codemirror_mode": {
    "name": "ipython",
    "version": 3
   },
   "file_extension": ".py",
   "mimetype": "text/x-python",
   "name": "python",
   "nbconvert_exporter": "python",
   "pygments_lexer": "ipython3",
   "version": "3.8.11"
  },
  "orig_nbformat": 4
 },
 "nbformat": 4,
 "nbformat_minor": 2
}
