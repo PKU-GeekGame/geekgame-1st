{
 "cells": [
  {
   "cell_type": "code",
   "execution_count": 1,
   "metadata": {},
   "outputs": [],
   "source": [
    "import zwsp_steg\n",
    "from Crypto.Random import get_random_bytes"
   ]
  },
  {
   "cell_type": "code",
   "execution_count": 2,
   "metadata": {},
   "outputs": [],
   "source": [
    "import binascii"
   ]
  },
  {
   "cell_type": "code",
   "execution_count": 3,
   "metadata": {},
   "outputs": [],
   "source": [
    "def genflag():\n",
    "    return 'flag{%s}'%binascii.hexlify(get_random_bytes(16)).decode()"
   ]
  },
  {
   "cell_type": "code",
   "execution_count": 4,
   "metadata": {},
   "outputs": [],
   "source": [
    "flag1 = genflag()\n",
    "flag2 = genflag()"
   ]
  },
  {
   "cell_type": "code",
   "execution_count": 5,
   "metadata": {},
   "outputs": [],
   "source": [
    "key = get_random_bytes(len(flag1))"
   ]
  },
  {
   "cell_type": "code",
   "execution_count": 7,
   "metadata": {},
   "outputs": [
    {
     "data": {
      "text/plain": [
       "b'\\x9a\\xb85E\\xfe>\\x03\\x1f\\xdaH,\\xea\\xa6\\xa5\\x98o3\\x91s \\x98\\x97\\xd3\\xb4\\xf0\\x15\\x08X!\\x8f-\\x8f\\x9b\\xed\\xb51\\xfe\\xdc'"
      ]
     },
     "execution_count": 7,
     "metadata": {},
     "output_type": "execute_result"
    }
   ],
   "source": [
    "key"
   ]
  },
  {
   "cell_type": "code",
   "execution_count": 6,
   "metadata": {},
   "outputs": [],
   "source": [
    "def xor_each(k, b):\n",
    "    assert len(k)==len(b)\n",
    "    out = []\n",
    "    for i in range(len(b)):\n",
    "        out.append(b[i]^k[i])\n",
    "    return bytes(out)"
   ]
  },
  {
   "cell_type": "code",
   "execution_count": 9,
   "metadata": {},
   "outputs": [],
   "source": [
    "encoded_flag1 = xor_each(key, flag1.encode())\n",
    "encoded_flag2 = xor_each(key, flag2.encode())"
   ]
  },
  {
   "cell_type": "code",
   "execution_count": 11,
   "metadata": {},
   "outputs": [],
   "source": [
    "with open('flag1.txt', 'wb') as f:\n",
    "    f.write(binascii.hexlify(encoded_flag1))"
   ]
  }
 ],
 "metadata": {
  "kernelspec": {
   "display_name": "Python 3",
   "language": "python",
   "name": "python3"
  },
  "language_info": {
   "codemirror_mode": {
    "name": "ipython",
    "version": 3
   },
   "file_extension": ".py",
   "mimetype": "text/x-python",
   "name": "python",
   "nbconvert_exporter": "python",
   "pygments_lexer": "ipython3",
   "version": "3.8.6"
  }
 },
 "nbformat": 4,
 "nbformat_minor": 4
}
